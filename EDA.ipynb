{
 "cells": [
  {
   "cell_type": "code",
   "execution_count": 5,
   "metadata": {},
   "outputs": [],
   "source": [
    "import matplotlib.pyplot as plt\n",
    "import numpy as np\n",
    "import pandas as pd\n",
    "from scipy import stats"
   ]
  },
  {
   "cell_type": "code",
   "execution_count": 3,
   "metadata": {},
   "outputs": [],
   "source": [
    "# Deshabilitamos el limite máximo de columnas mostradas en el notebook\n",
    "pd.set_option('display.max_columns', None)"
   ]
  },
  {
   "cell_type": "markdown",
   "metadata": {},
   "source": [
    "## Carga de datasets procesados en 'ETL.ipynb'"
   ]
  },
  {
   "cell_type": "code",
   "execution_count": 6,
   "metadata": {},
   "outputs": [],
   "source": [
    "nombre_dir = 'data_pickle'\n",
    "\n",
    "# Datasets de steam_games a pickle\n",
    "df_steamgames: pd.DataFrame = pd.read_pickle(f'./{nombre_dir}/df_steamgames_clean.pkl')\n",
    "df_steamgames_genres: pd.DataFrame = pd.read_pickle(f'./{nombre_dir}/df_steamgames_genres.pkl')\n",
    "df_steamgames_tags: pd.DataFrame = pd.read_pickle(f'./{nombre_dir}/df_steamgames_tags.pkl')\n",
    "df_steamgames_specs: pd.DataFrame = pd.read_pickle(f'./{nombre_dir}/df_steamgames_specs.pkl')\n",
    "\n",
    "# Dataset de user_reviews a pickle\n",
    "df_userreviews: pd.DataFrame = pd.read_pickle(f'./{nombre_dir}/df_userreviews_clean.pkl')\n",
    "\n",
    "# Dataset de users_items a pickle\n",
    "df_usersitems: pd.DataFrame = pd.read_pickle(f'./{nombre_dir}/df_usersitems_clean.pkl')"
   ]
  },
  {
   "cell_type": "markdown",
   "metadata": {},
   "source": []
  },
  {
   "cell_type": "markdown",
   "metadata": {},
   "source": [
    "## Dataset: steam_games"
   ]
  },
  {
   "cell_type": "code",
   "execution_count": 35,
   "metadata": {},
   "outputs": [
    {
     "data": {
      "text/html": [
       "<div>\n",
       "<style scoped>\n",
       "    .dataframe tbody tr th:only-of-type {\n",
       "        vertical-align: middle;\n",
       "    }\n",
       "\n",
       "    .dataframe tbody tr th {\n",
       "        vertical-align: top;\n",
       "    }\n",
       "\n",
       "    .dataframe thead th {\n",
       "        text-align: right;\n",
       "    }\n",
       "</style>\n",
       "<table border=\"1\" class=\"dataframe\">\n",
       "  <thead>\n",
       "    <tr style=\"text-align: right;\">\n",
       "      <th></th>\n",
       "      <th>publisher</th>\n",
       "      <th>app_name</th>\n",
       "      <th>title</th>\n",
       "      <th>url</th>\n",
       "      <th>reviews_url</th>\n",
       "      <th>price</th>\n",
       "      <th>early_access</th>\n",
       "      <th>id</th>\n",
       "      <th>developer</th>\n",
       "      <th>release_year</th>\n",
       "    </tr>\n",
       "  </thead>\n",
       "  <tbody>\n",
       "    <tr>\n",
       "      <th>88310</th>\n",
       "      <td>Kotoshiro</td>\n",
       "      <td>Lost Summoner Kitty</td>\n",
       "      <td>Lost Summoner Kitty</td>\n",
       "      <td>http://store.steampowered.com/app/761140/Lost_...</td>\n",
       "      <td>http://steamcommunity.com/app/761140/reviews/?...</td>\n",
       "      <td>4.99</td>\n",
       "      <td>False</td>\n",
       "      <td>761140</td>\n",
       "      <td>Kotoshiro</td>\n",
       "      <td>2018-01-01</td>\n",
       "    </tr>\n",
       "    <tr>\n",
       "      <th>88311</th>\n",
       "      <td>Making Fun, Inc.</td>\n",
       "      <td>Ironbound</td>\n",
       "      <td>Ironbound</td>\n",
       "      <td>http://store.steampowered.com/app/643980/Ironb...</td>\n",
       "      <td>http://steamcommunity.com/app/643980/reviews/?...</td>\n",
       "      <td>Free To Play</td>\n",
       "      <td>False</td>\n",
       "      <td>643980</td>\n",
       "      <td>Secret Level SRL</td>\n",
       "      <td>2018-01-01</td>\n",
       "    </tr>\n",
       "    <tr>\n",
       "      <th>88312</th>\n",
       "      <td>Poolians.com</td>\n",
       "      <td>Real Pool 3D - Poolians</td>\n",
       "      <td>Real Pool 3D - Poolians</td>\n",
       "      <td>http://store.steampowered.com/app/670290/Real_...</td>\n",
       "      <td>http://steamcommunity.com/app/670290/reviews/?...</td>\n",
       "      <td>Free to Play</td>\n",
       "      <td>False</td>\n",
       "      <td>670290</td>\n",
       "      <td>Poolians.com</td>\n",
       "      <td>2017-01-01</td>\n",
       "    </tr>\n",
       "    <tr>\n",
       "      <th>88313</th>\n",
       "      <td>彼岸领域</td>\n",
       "      <td>弹炸人2222</td>\n",
       "      <td>弹炸人2222</td>\n",
       "      <td>http://store.steampowered.com/app/767400/2222/</td>\n",
       "      <td>http://steamcommunity.com/app/767400/reviews/?...</td>\n",
       "      <td>0.99</td>\n",
       "      <td>False</td>\n",
       "      <td>767400</td>\n",
       "      <td>彼岸领域</td>\n",
       "      <td>2017-01-01</td>\n",
       "    </tr>\n",
       "    <tr>\n",
       "      <th>88315</th>\n",
       "      <td>Trickjump Games Ltd</td>\n",
       "      <td>Battle Royale Trainer</td>\n",
       "      <td>Battle Royale Trainer</td>\n",
       "      <td>http://store.steampowered.com/app/772540/Battl...</td>\n",
       "      <td>http://steamcommunity.com/app/772540/reviews/?...</td>\n",
       "      <td>3.99</td>\n",
       "      <td>False</td>\n",
       "      <td>772540</td>\n",
       "      <td>Trickjump Games Ltd</td>\n",
       "      <td>2018-01-01</td>\n",
       "    </tr>\n",
       "  </tbody>\n",
       "</table>\n",
       "</div>"
      ],
      "text/plain": [
       "                 publisher                 app_name                    title  \\\n",
       "88310            Kotoshiro      Lost Summoner Kitty      Lost Summoner Kitty   \n",
       "88311     Making Fun, Inc.                Ironbound                Ironbound   \n",
       "88312         Poolians.com  Real Pool 3D - Poolians  Real Pool 3D - Poolians   \n",
       "88313                 彼岸领域                  弹炸人2222                  弹炸人2222   \n",
       "88315  Trickjump Games Ltd    Battle Royale Trainer    Battle Royale Trainer   \n",
       "\n",
       "                                                     url  \\\n",
       "88310  http://store.steampowered.com/app/761140/Lost_...   \n",
       "88311  http://store.steampowered.com/app/643980/Ironb...   \n",
       "88312  http://store.steampowered.com/app/670290/Real_...   \n",
       "88313     http://store.steampowered.com/app/767400/2222/   \n",
       "88315  http://store.steampowered.com/app/772540/Battl...   \n",
       "\n",
       "                                             reviews_url         price  \\\n",
       "88310  http://steamcommunity.com/app/761140/reviews/?...          4.99   \n",
       "88311  http://steamcommunity.com/app/643980/reviews/?...  Free To Play   \n",
       "88312  http://steamcommunity.com/app/670290/reviews/?...  Free to Play   \n",
       "88313  http://steamcommunity.com/app/767400/reviews/?...          0.99   \n",
       "88315  http://steamcommunity.com/app/772540/reviews/?...          3.99   \n",
       "\n",
       "      early_access      id            developer release_year  \n",
       "88310        False  761140            Kotoshiro   2018-01-01  \n",
       "88311        False  643980     Secret Level SRL   2018-01-01  \n",
       "88312        False  670290         Poolians.com   2017-01-01  \n",
       "88313        False  767400                 彼岸领域   2017-01-01  \n",
       "88315        False  772540  Trickjump Games Ltd   2018-01-01  "
      ]
     },
     "execution_count": 35,
     "metadata": {},
     "output_type": "execute_result"
    }
   ],
   "source": [
    "df_steamgames.head()"
   ]
  },
  {
   "cell_type": "markdown",
   "metadata": {},
   "source": [
    "### Analisis de Precios"
   ]
  },
  {
   "cell_type": "code",
   "execution_count": 36,
   "metadata": {},
   "outputs": [
    {
     "data": {
      "text/plain": [
       "price\n",
       "Free                             668\n",
       "Free to Play                     469\n",
       "Free To Play                     367\n",
       "Free Mod                           4\n",
       "Free Demo                          3\n",
       "Play for Free!                     2\n",
       "Third-party                        2\n",
       "Play Now                           2\n",
       "Install Now                        1\n",
       "Install Theme                      1\n",
       "Play WARMACHINE: Tactics Demo      1\n",
       "Free HITMAN™ Holiday Pack          1\n",
       "Play the Demo                      1\n",
       "Name: count, dtype: int64"
      ]
     },
     "execution_count": 36,
     "metadata": {},
     "output_type": "execute_result"
    }
   ],
   "source": [
    "# Notamos que existen valores tipo string en 'price'\n",
    "# Filtramos los strings en esta columna para visualizarlos\n",
    "strings_en_col_price = df_steamgames['price'].apply(lambda x: isinstance(x, str))\n",
    "df_steamgames[strings_en_col_price]['price'].value_counts()"
   ]
  },
  {
   "cell_type": "code",
   "execution_count": 37,
   "metadata": {},
   "outputs": [],
   "source": [
    "# En la column 'price' existen strings que no podemos evaluar como valores numéricos\n",
    "# Creamos una función que convierte los strings que sugieren ser gratuitos (contienen las palabra 'free') a valor 0.0\n",
    "def convertir_gratis_a_cero(valor_en_columna):\n",
    "    # Guard-clause que revisa si valor_en_columna es de tipo str\n",
    "    if not isinstance(valor_en_columna, str):\n",
    "        return valor_en_columna\n",
    "    \n",
    "    # Separamos valor_en_columna en una lista para poder evaluar su contenido\n",
    "    valor_a_lista = valor_en_columna.lower().split()\n",
    "    # Condicional que retorna True si valor_a_lista contiene las palabra 'free'\n",
    "    es_gratuito = 'free' in valor_a_lista\n",
    "    \n",
    "    return 0.0 if es_gratuito else None"
   ]
  },
  {
   "cell_type": "code",
   "execution_count": 38,
   "metadata": {},
   "outputs": [],
   "source": [
    "# Aplicamos 'convertir_gratis_a_cero' a columna 'price'\n",
    "df_steamgames['price'] = df_steamgames['price'].apply(convertir_gratis_a_cero)\n",
    "# Descartamos los valores nulos porque no podemos deducir su precio.\n",
    "df_steamgames.dropna(subset=['price'], inplace=True)"
   ]
  },
  {
   "cell_type": "code",
   "execution_count": 39,
   "metadata": {},
   "outputs": [
    {
     "data": {
      "text/plain": [
       "count    27313.000000\n",
       "mean         8.685173\n",
       "std         14.644546\n",
       "min          0.000000\n",
       "25%          2.990000\n",
       "50%          4.990000\n",
       "75%          9.990000\n",
       "max        995.000000\n",
       "Name: price, dtype: float64"
      ]
     },
     "execution_count": 39,
     "metadata": {},
     "output_type": "execute_result"
    }
   ],
   "source": [
    "df_steamgames['price'].describe()"
   ]
  },
  {
   "cell_type": "code",
   "execution_count": 51,
   "metadata": {},
   "outputs": [
    {
     "data": {
      "text/plain": [
       "Text(0, 0.5, 'Cantidad de Juegos')"
      ]
     },
     "execution_count": 51,
     "metadata": {},
     "output_type": "execute_result"
    },
    {
     "data": {
      "image/png": "[encoded data removed]",
      "text/plain": [
       "<Figure size 500x300 with 1 Axes>"
      ]
     },
     "metadata": {},
     "output_type": "display_data"
    }
   ],
   "source": [
    "# Visualizamos la distribución de precios de juegos\n",
    "plt.figure(figsize=(5, 3))\n",
    "df_steamgames['price'].plot(kind='hist', bins=100, title='Distribución de Precios de Juegos')\n",
    "plt.xlabel('Precio')\n",
    "plt.ylabel('Cantidad de Juegos')"
   ]
  },
  {
   "cell_type": "code",
   "execution_count": 1,
   "metadata": {},
   "outputs": [
    {
     "ename": "NameError",
     "evalue": "name 'df_steamgames_genres' is not defined",
     "output_type": "error",
     "traceback": [
      "\u001b[0;31m---------------------------------------------------------------------------\u001b[0m",
      "\u001b[0;31mNameError\u001b[0m                                 Traceback (most recent call last)",
      "Cell \u001b[0;32mIn[1], line 1\u001b[0m\n\u001b[0;32m----> 1\u001b[0m \u001b[43mdf_steamgames_genres\u001b[49m\u001b[38;5;241m.\u001b[39msum()\n",
      "\u001b[0;31mNameError\u001b[0m: name 'df_steamgames_genres' is not defined"
     ]
    }
   ],
   "source": [
    "df_steamgames_genres.sum()"
   ]
  },
  {
   "cell_type": "code",
   "execution_count": null,
   "metadata": {},
   "outputs": [],
   "source": [
    "df_steamgames_genres.info()"
   ]
  },
  {
   "cell_type": "code",
   "execution_count": null,
   "metadata": {},
   "outputs": [],
   "source": []
  },
  {
   "cell_type": "code",
   "execution_count": null,
   "metadata": {},
   "outputs": [],
   "source": [
    "df_steamgames_tags.head()"
   ]
  },
  {
   "cell_type": "code",
   "execution_count": null,
   "metadata": {},
   "outputs": [],
   "source": [
    "df_steamgames_specs.head()"
   ]
  },
  {
   "cell_type": "markdown",
   "metadata": {},
   "source": [
    "* **'genres'** y **'tags'** tienen información similar, con la distinción de **'tags'** ser mas detallado. Mantenemos **'genres'** intactos, y de **'tags'** restamos los tags que hacen referencia al genero, para eliminar redundancia de información.\n",
    "* **'app_name'** y **'title'** tiene la misma información, y **'title'** tiende a tener valores nulos. Eliminaremos **'title'** por su redundancia..\n",
    "* La información que provee **'early_access'** esta incluido en **'tags'**. Eliminaremos **'early_access'**.\n",
    "* **'url'** y **'reviews_url'** no son relevantes a nuestro análisis. Se eliminaran."
   ]
  },
  {
   "cell_type": "markdown",
   "metadata": {},
   "source": [
    "## Dataset: user_reviews"
   ]
  },
  {
   "cell_type": "code",
   "execution_count": 76,
   "metadata": {},
   "outputs": [
    {
     "data": {
      "text/html": [
       "<div>\n",
       "<style scoped>\n",
       "    .dataframe tbody tr th:only-of-type {\n",
       "        vertical-align: middle;\n",
       "    }\n",
       "\n",
       "    .dataframe tbody tr th {\n",
       "        vertical-align: top;\n",
       "    }\n",
       "\n",
       "    .dataframe thead th {\n",
       "        text-align: right;\n",
       "    }\n",
       "</style>\n",
       "<table border=\"1\" class=\"dataframe\">\n",
       "  <thead>\n",
       "    <tr style=\"text-align: right;\">\n",
       "      <th></th>\n",
       "      <th>funny</th>\n",
       "      <th>posted</th>\n",
       "      <th>last_edited</th>\n",
       "      <th>item_id</th>\n",
       "      <th>helpful</th>\n",
       "      <th>recommend</th>\n",
       "      <th>review</th>\n",
       "      <th>user_id</th>\n",
       "    </tr>\n",
       "  </thead>\n",
       "  <tbody>\n",
       "    <tr>\n",
       "      <th>0</th>\n",
       "      <td></td>\n",
       "      <td>2014-06-24</td>\n",
       "      <td>NaT</td>\n",
       "      <td>251610</td>\n",
       "      <td>15 of 20 people (75%) found this review helpful</td>\n",
       "      <td>True</td>\n",
       "      <td>I know what you think when you see this title ...</td>\n",
       "      <td>js41637</td>\n",
       "    </tr>\n",
       "    <tr>\n",
       "      <th>0</th>\n",
       "      <td></td>\n",
       "      <td>2013-09-08</td>\n",
       "      <td>NaT</td>\n",
       "      <td>227300</td>\n",
       "      <td>0 of 1 people (0%) found this review helpful</td>\n",
       "      <td>True</td>\n",
       "      <td>For a simple (it's actually not all that simpl...</td>\n",
       "      <td>js41637</td>\n",
       "    </tr>\n",
       "    <tr>\n",
       "      <th>0</th>\n",
       "      <td></td>\n",
       "      <td>2013-11-29</td>\n",
       "      <td>NaT</td>\n",
       "      <td>239030</td>\n",
       "      <td>1 of 4 people (25%) found this review helpful</td>\n",
       "      <td>True</td>\n",
       "      <td>Very fun little game to play when your bored o...</td>\n",
       "      <td>js41637</td>\n",
       "    </tr>\n",
       "    <tr>\n",
       "      <th>1</th>\n",
       "      <td></td>\n",
       "      <td>NaT</td>\n",
       "      <td>NaT</td>\n",
       "      <td>248820</td>\n",
       "      <td>No ratings yet</td>\n",
       "      <td>True</td>\n",
       "      <td>A suitably punishing roguelike platformer.  Wi...</td>\n",
       "      <td>evcentric</td>\n",
       "    </tr>\n",
       "    <tr>\n",
       "      <th>1</th>\n",
       "      <td></td>\n",
       "      <td>2015-12-04</td>\n",
       "      <td>2015-12-05</td>\n",
       "      <td>370360</td>\n",
       "      <td>No ratings yet</td>\n",
       "      <td>True</td>\n",
       "      <td>\"Run for fun? What the hell kind of fun is that?\"</td>\n",
       "      <td>evcentric</td>\n",
       "    </tr>\n",
       "  </tbody>\n",
       "</table>\n",
       "</div>"
      ],
      "text/plain": [
       "  funny     posted last_edited item_id  \\\n",
       "0       2014-06-24         NaT  251610   \n",
       "0       2013-09-08         NaT  227300   \n",
       "0       2013-11-29         NaT  239030   \n",
       "1              NaT         NaT  248820   \n",
       "1       2015-12-04  2015-12-05  370360   \n",
       "\n",
       "                                           helpful recommend  \\\n",
       "0  15 of 20 people (75%) found this review helpful      True   \n",
       "0     0 of 1 people (0%) found this review helpful      True   \n",
       "0    1 of 4 people (25%) found this review helpful      True   \n",
       "1                                   No ratings yet      True   \n",
       "1                                   No ratings yet      True   \n",
       "\n",
       "                                              review    user_id  \n",
       "0  I know what you think when you see this title ...    js41637  \n",
       "0  For a simple (it's actually not all that simpl...    js41637  \n",
       "0  Very fun little game to play when your bored o...    js41637  \n",
       "1  A suitably punishing roguelike platformer.  Wi...  evcentric  \n",
       "1  \"Run for fun? What the hell kind of fun is that?\"  evcentric  "
      ]
     },
     "execution_count": 76,
     "metadata": {},
     "output_type": "execute_result"
    }
   ],
   "source": [
    "df_userreviews.head()"
   ]
  },
  {
   "cell_type": "markdown",
   "metadata": {},
   "source": [
    "* **'user_url'** no es relevante a nuestro análisis. Lo eliminaremos."
   ]
  },
  {
   "cell_type": "markdown",
   "metadata": {},
   "source": [
    "## Dataset: users_items"
   ]
  },
  {
   "cell_type": "code",
   "execution_count": null,
   "metadata": {},
   "outputs": [],
   "source": [
    "df_usersitems.head()"
   ]
  },
  {
   "cell_type": "markdown",
   "metadata": {},
   "source": [
    "* **'items_count'** y **'user_url'** no son relevantes a nuestro análisis. Los eliminaremos.\n",
    "* **'user_id'** y **'steam_id'** ambos son identificadores de usuarios. El **'user_id'** en este dataset es el mismo **'user_id'** de la tabla **user_reviews**, que facilita nuestro análisis. Por esta razón, eliminaremos **'steam_id'**, por su redundancia."
   ]
  },
  {
   "cell_type": "code",
   "execution_count": null,
   "metadata": {},
   "outputs": [],
   "source": [
    "# for PlayTimeGenre()\n",
    "df_playtime = "
   ]
  }
 ],
 "metadata": {
  "kernelspec": {
   "display_name": "pyenv-h2",
   "language": "python",
   "name": "python3"
  },
  "language_info": {
   "codemirror_mode": {
    "name": "ipython",
    "version": 3
   },
   "file_extension": ".py",
   "mimetype": "text/x-python",
   "name": "python",
   "nbconvert_exporter": "python",
   "pygments_lexer": "ipython3",
   "version": "3.10.12"
  }
 },
 "nbformat": 4,
 "nbformat_minor": 2
}
