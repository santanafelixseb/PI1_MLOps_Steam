{
 "cells": [
  {
   "cell_type": "code",
   "execution_count": 34,
   "metadata": {},
   "outputs": [],
   "source": [
    "import ast\n",
    "import glob\n",
    "import gzip\n",
    "import json\n",
    "import os\n",
    "import pickle\n",
    "import re\n",
    "import numpy as np\n",
    "import pandas as pd"
   ]
  },
  {
   "cell_type": "markdown",
   "metadata": {},
   "source": [
    "## Extracción de datos"
   ]
  },
  {
   "cell_type": "code",
   "execution_count": 5,
   "metadata": {},
   "outputs": [],
   "source": [
    "# Almacenaremos la data extraída en un diccionario\n",
    "datasets_raw: dict[pd.DataFrame] = {}\n",
    "\n",
    "# Extraemos los datasets (archivos que terminan en '.json.gz')\n",
    "for filepath in glob.glob('*.json.gz'):\n",
    "    with gzip.open(filepath, 'rb') as f:\n",
    "        try:\n",
    "            # Desanidamos el archivo extraído JSON \n",
    "            data = [json.loads(line.decode('utf-8')) for line in f]\n",
    "        except json.JSONDecodeError as e:\n",
    "            # En caso que no se pueda desanidar con json.loads(), utilizamos ast.literal_eval() \n",
    "            data = [ast.literal_eval(line.decode('utf-8')) for line in f]\n",
    "    \n",
    "    # Obtenemos el nombre del archivo dentro del string de la ruta\n",
    "    fname = filepath.split('/')[-1].split('.')[0]  \n",
    "    # Guardamos la data como un dataframe dentro de 'datasets_raw'\n",
    "    datasets_raw[fname] = pd.DataFrame(data)"
   ]
  },
  {
   "cell_type": "code",
   "execution_count": 5,
   "metadata": {},
   "outputs": [
    {
     "data": {
      "text/plain": [
       "dict_keys(['users_items', 'user_reviews', 'steam_games'])"
      ]
     },
     "execution_count": 5,
     "metadata": {},
     "output_type": "execute_result"
    }
   ],
   "source": [
    "datasets_raw.keys()"
   ]
  },
  {
   "cell_type": "code",
   "execution_count": 4,
   "metadata": {},
   "outputs": [],
   "source": [
    "# Asignamos los dataframes en 'datasets_raw' a variables\n",
    "df_steamgames_raw: pd.DataFrame = datasets_raw['steam_games']\n",
    "df_userreviews_raw: pd.DataFrame = datasets_raw['user_reviews']\n",
    "df_usersitems_raw: pd.DataFrame = datasets_raw['users_items']"
   ]
  },
  {
   "cell_type": "markdown",
   "metadata": {},
   "source": [
    "## Limpieza y Transformación de Datasets"
   ]
  },
  {
   "cell_type": "markdown",
   "metadata": {},
   "source": [
    "### Limpieza de nulos general\n",
    "* Verificamos si existen filas con todo nulos."
   ]
  },
  {
   "cell_type": "code",
   "execution_count": 6,
   "metadata": {},
   "outputs": [
    {
     "data": {
      "text/plain": [
       "True"
      ]
     },
     "execution_count": 6,
     "metadata": {},
     "output_type": "execute_result"
    }
   ],
   "source": [
    "# Existen filas con todo nulos para 'steam_games'?\n",
    "df_steamgames_raw.isna().all(axis=1).any()"
   ]
  },
  {
   "cell_type": "code",
   "execution_count": 6,
   "metadata": {},
   "outputs": [
    {
     "data": {
      "text/plain": [
       "False"
      ]
     },
     "execution_count": 6,
     "metadata": {},
     "output_type": "execute_result"
    }
   ],
   "source": [
    "# Existen filas con todo nulos para 'user_reviews'?\n",
    "df_userreviews_raw.isna().all(axis=1).any()"
   ]
  },
  {
   "cell_type": "code",
   "execution_count": 7,
   "metadata": {},
   "outputs": [
    {
     "data": {
      "text/plain": [
       "False"
      ]
     },
     "execution_count": 7,
     "metadata": {},
     "output_type": "execute_result"
    }
   ],
   "source": [
    "# Existen filas con todo nulos para 'users_items'?\n",
    "df_usersitems_raw.isna().all(axis=1).any()"
   ]
  },
  {
   "cell_type": "markdown",
   "metadata": {},
   "source": [
    "* Existen filas con todos nulos en 'steam_games', por ende serán eliminadas."
   ]
  },
  {
   "cell_type": "code",
   "execution_count": 7,
   "metadata": {},
   "outputs": [
    {
     "data": {
      "text/plain": [
       "False"
      ]
     },
     "execution_count": 7,
     "metadata": {},
     "output_type": "execute_result"
    }
   ],
   "source": [
    "# Hacemos drop a las filas con todos nulos de 'steam_games'\n",
    "df_steamgames_raw.dropna(axis=0, how='all', inplace=True)\n",
    "\n",
    "# Confirmamos el drop\n",
    "df_steamgames_raw.isna().all(axis=1).any()"
   ]
  },
  {
   "cell_type": "markdown",
   "metadata": {},
   "source": [
    "### Dataset: steam_games"
   ]
  },
  {
   "cell_type": "code",
   "execution_count": 8,
   "metadata": {},
   "outputs": [
    {
     "name": "stdout",
     "output_type": "stream",
     "text": [
      "<class 'pandas.core.frame.DataFrame'>\n",
      "Index: 32135 entries, 88310 to 120444\n",
      "Data columns (total 13 columns):\n",
      " #   Column        Non-Null Count  Dtype \n",
      "---  ------        --------------  ----- \n",
      " 0   publisher     24083 non-null  object\n",
      " 1   genres        28852 non-null  object\n",
      " 2   app_name      32133 non-null  object\n",
      " 3   title         30085 non-null  object\n",
      " 4   url           32135 non-null  object\n",
      " 5   release_date  30068 non-null  object\n",
      " 6   tags          31972 non-null  object\n",
      " 7   reviews_url   32133 non-null  object\n",
      " 8   specs         31465 non-null  object\n",
      " 9   price         30758 non-null  object\n",
      " 10  early_access  32135 non-null  object\n",
      " 11  id            32133 non-null  object\n",
      " 12  developer     28836 non-null  object\n",
      "dtypes: object(13)\n",
      "memory usage: 3.4+ MB\n"
     ]
    },
    {
     "data": {
      "text/html": [
       "<div>\n",
       "<style scoped>\n",
       "    .dataframe tbody tr th:only-of-type {\n",
       "        vertical-align: middle;\n",
       "    }\n",
       "\n",
       "    .dataframe tbody tr th {\n",
       "        vertical-align: top;\n",
       "    }\n",
       "\n",
       "    .dataframe thead th {\n",
       "        text-align: right;\n",
       "    }\n",
       "</style>\n",
       "<table border=\"1\" class=\"dataframe\">\n",
       "  <thead>\n",
       "    <tr style=\"text-align: right;\">\n",
       "      <th></th>\n",
       "      <th>publisher</th>\n",
       "      <th>genres</th>\n",
       "      <th>app_name</th>\n",
       "      <th>title</th>\n",
       "      <th>url</th>\n",
       "      <th>release_date</th>\n",
       "      <th>tags</th>\n",
       "      <th>reviews_url</th>\n",
       "      <th>specs</th>\n",
       "      <th>price</th>\n",
       "      <th>early_access</th>\n",
       "      <th>id</th>\n",
       "      <th>developer</th>\n",
       "    </tr>\n",
       "  </thead>\n",
       "  <tbody>\n",
       "    <tr>\n",
       "      <th>88310</th>\n",
       "      <td>Kotoshiro</td>\n",
       "      <td>[Action, Casual, Indie, Simulation, Strategy]</td>\n",
       "      <td>Lost Summoner Kitty</td>\n",
       "      <td>Lost Summoner Kitty</td>\n",
       "      <td>http://store.steampowered.com/app/761140/Lost_...</td>\n",
       "      <td>2018-01-04</td>\n",
       "      <td>[Strategy, Action, Indie, Casual, Simulation]</td>\n",
       "      <td>http://steamcommunity.com/app/761140/reviews/?...</td>\n",
       "      <td>[Single-player]</td>\n",
       "      <td>4.99</td>\n",
       "      <td>False</td>\n",
       "      <td>761140</td>\n",
       "      <td>Kotoshiro</td>\n",
       "    </tr>\n",
       "    <tr>\n",
       "      <th>88311</th>\n",
       "      <td>Making Fun, Inc.</td>\n",
       "      <td>[Free to Play, Indie, RPG, Strategy]</td>\n",
       "      <td>Ironbound</td>\n",
       "      <td>Ironbound</td>\n",
       "      <td>http://store.steampowered.com/app/643980/Ironb...</td>\n",
       "      <td>2018-01-04</td>\n",
       "      <td>[Free to Play, Strategy, Indie, RPG, Card Game...</td>\n",
       "      <td>http://steamcommunity.com/app/643980/reviews/?...</td>\n",
       "      <td>[Single-player, Multi-player, Online Multi-Pla...</td>\n",
       "      <td>Free To Play</td>\n",
       "      <td>False</td>\n",
       "      <td>643980</td>\n",
       "      <td>Secret Level SRL</td>\n",
       "    </tr>\n",
       "    <tr>\n",
       "      <th>88312</th>\n",
       "      <td>Poolians.com</td>\n",
       "      <td>[Casual, Free to Play, Indie, Simulation, Sports]</td>\n",
       "      <td>Real Pool 3D - Poolians</td>\n",
       "      <td>Real Pool 3D - Poolians</td>\n",
       "      <td>http://store.steampowered.com/app/670290/Real_...</td>\n",
       "      <td>2017-07-24</td>\n",
       "      <td>[Free to Play, Simulation, Sports, Casual, Ind...</td>\n",
       "      <td>http://steamcommunity.com/app/670290/reviews/?...</td>\n",
       "      <td>[Single-player, Multi-player, Online Multi-Pla...</td>\n",
       "      <td>Free to Play</td>\n",
       "      <td>False</td>\n",
       "      <td>670290</td>\n",
       "      <td>Poolians.com</td>\n",
       "    </tr>\n",
       "    <tr>\n",
       "      <th>88313</th>\n",
       "      <td>彼岸领域</td>\n",
       "      <td>[Action, Adventure, Casual]</td>\n",
       "      <td>弹炸人2222</td>\n",
       "      <td>弹炸人2222</td>\n",
       "      <td>http://store.steampowered.com/app/767400/2222/</td>\n",
       "      <td>2017-12-07</td>\n",
       "      <td>[Action, Adventure, Casual]</td>\n",
       "      <td>http://steamcommunity.com/app/767400/reviews/?...</td>\n",
       "      <td>[Single-player]</td>\n",
       "      <td>0.99</td>\n",
       "      <td>False</td>\n",
       "      <td>767400</td>\n",
       "      <td>彼岸领域</td>\n",
       "    </tr>\n",
       "    <tr>\n",
       "      <th>88314</th>\n",
       "      <td>NaN</td>\n",
       "      <td>NaN</td>\n",
       "      <td>Log Challenge</td>\n",
       "      <td>NaN</td>\n",
       "      <td>http://store.steampowered.com/app/773570/Log_C...</td>\n",
       "      <td>NaN</td>\n",
       "      <td>[Action, Indie, Casual, Sports]</td>\n",
       "      <td>http://steamcommunity.com/app/773570/reviews/?...</td>\n",
       "      <td>[Single-player, Full controller support, HTC V...</td>\n",
       "      <td>2.99</td>\n",
       "      <td>False</td>\n",
       "      <td>773570</td>\n",
       "      <td>NaN</td>\n",
       "    </tr>\n",
       "  </tbody>\n",
       "</table>\n",
       "</div>"
      ],
      "text/plain": [
       "              publisher                                             genres  \\\n",
       "88310         Kotoshiro      [Action, Casual, Indie, Simulation, Strategy]   \n",
       "88311  Making Fun, Inc.               [Free to Play, Indie, RPG, Strategy]   \n",
       "88312      Poolians.com  [Casual, Free to Play, Indie, Simulation, Sports]   \n",
       "88313              彼岸领域                        [Action, Adventure, Casual]   \n",
       "88314               NaN                                                NaN   \n",
       "\n",
       "                      app_name                    title  \\\n",
       "88310      Lost Summoner Kitty      Lost Summoner Kitty   \n",
       "88311                Ironbound                Ironbound   \n",
       "88312  Real Pool 3D - Poolians  Real Pool 3D - Poolians   \n",
       "88313                  弹炸人2222                  弹炸人2222   \n",
       "88314            Log Challenge                      NaN   \n",
       "\n",
       "                                                     url release_date  \\\n",
       "88310  http://store.steampowered.com/app/761140/Lost_...   2018-01-04   \n",
       "88311  http://store.steampowered.com/app/643980/Ironb...   2018-01-04   \n",
       "88312  http://store.steampowered.com/app/670290/Real_...   2017-07-24   \n",
       "88313     http://store.steampowered.com/app/767400/2222/   2017-12-07   \n",
       "88314  http://store.steampowered.com/app/773570/Log_C...          NaN   \n",
       "\n",
       "                                                    tags  \\\n",
       "88310      [Strategy, Action, Indie, Casual, Simulation]   \n",
       "88311  [Free to Play, Strategy, Indie, RPG, Card Game...   \n",
       "88312  [Free to Play, Simulation, Sports, Casual, Ind...   \n",
       "88313                        [Action, Adventure, Casual]   \n",
       "88314                    [Action, Indie, Casual, Sports]   \n",
       "\n",
       "                                             reviews_url  \\\n",
       "88310  http://steamcommunity.com/app/761140/reviews/?...   \n",
       "88311  http://steamcommunity.com/app/643980/reviews/?...   \n",
       "88312  http://steamcommunity.com/app/670290/reviews/?...   \n",
       "88313  http://steamcommunity.com/app/767400/reviews/?...   \n",
       "88314  http://steamcommunity.com/app/773570/reviews/?...   \n",
       "\n",
       "                                                   specs         price  \\\n",
       "88310                                    [Single-player]          4.99   \n",
       "88311  [Single-player, Multi-player, Online Multi-Pla...  Free To Play   \n",
       "88312  [Single-player, Multi-player, Online Multi-Pla...  Free to Play   \n",
       "88313                                    [Single-player]          0.99   \n",
       "88314  [Single-player, Full controller support, HTC V...          2.99   \n",
       "\n",
       "      early_access      id         developer  \n",
       "88310        False  761140         Kotoshiro  \n",
       "88311        False  643980  Secret Level SRL  \n",
       "88312        False  670290      Poolians.com  \n",
       "88313        False  767400              彼岸领域  \n",
       "88314        False  773570               NaN  "
      ]
     },
     "execution_count": 8,
     "metadata": {},
     "output_type": "execute_result"
    }
   ],
   "source": [
    "# Inspeccionamos el dataframe de 'steam_games' y su contenido\n",
    "df_steamgames_raw.info()\n",
    "df_steamgames_raw.head()"
   ]
  },
  {
   "cell_type": "code",
   "execution_count": 9,
   "metadata": {},
   "outputs": [
    {
     "data": {
      "text/plain": [
       "publisher       8052\n",
       "genres          3283\n",
       "app_name           2\n",
       "title           2050\n",
       "url                0\n",
       "release_date    2067\n",
       "tags             163\n",
       "reviews_url        2\n",
       "specs            670\n",
       "price           1377\n",
       "early_access       0\n",
       "id                 2\n",
       "developer       3299\n",
       "dtype: int64"
      ]
     },
     "execution_count": 9,
     "metadata": {},
     "output_type": "execute_result"
    }
   ],
   "source": [
    "# Revisamos la cantidad de nulos por columna\n",
    "df_steamgames_raw.isna().sum()"
   ]
  },
  {
   "cell_type": "markdown",
   "metadata": {},
   "source": [
    "#### Eliminación de filas nulas (steam_games)"
   ]
  },
  {
   "cell_type": "markdown",
   "metadata": {},
   "source": [
    "* La información en la columnas 'genres', 'release_date', 'tags', 'specs' y 'id' son esenciales para este proyecto. Eliminamos filas con nulos en estas columnas."
   ]
  },
  {
   "cell_type": "code",
   "execution_count": 10,
   "metadata": {},
   "outputs": [
    {
     "data": {
      "text/plain": [
       "publisher       4892\n",
       "genres             0\n",
       "app_name           1\n",
       "title              1\n",
       "url                0\n",
       "release_date       0\n",
       "tags               0\n",
       "reviews_url        0\n",
       "specs              0\n",
       "price           1199\n",
       "early_access       0\n",
       "id                 0\n",
       "developer        170\n",
       "dtype: int64"
      ]
     },
     "execution_count": 10,
     "metadata": {},
     "output_type": "execute_result"
    }
   ],
   "source": [
    "# Eliminamos las filas con nulos en 'genres', 'release_date', 'tags', 'specs' y/o 'id'\n",
    "df_steamgames_raw.dropna(subset=['genres', 'release_date', 'tags', 'specs', 'id'], inplace=True)\n",
    "\n",
    "# Volvemos a revisar los nulos\n",
    "df_steamgames_raw.isna().sum()"
   ]
  },
  {
   "cell_type": "markdown",
   "metadata": {},
   "source": [
    "#### Eliminación de filas no-útil (steam_games)"
   ]
  },
  {
   "cell_type": "markdown",
   "metadata": {},
   "source": [
    "* Identificamos filas con insuficiente información para ser útil, y las eliminamos."
   ]
  },
  {
   "cell_type": "code",
   "execution_count": 11,
   "metadata": {},
   "outputs": [
    {
     "data": {
      "text/plain": [
       "cantidad_nan\n",
       "0    22530\n",
       "1     5742\n",
       "2      240\n",
       "3       12\n",
       "5        1\n",
       "dtype: int64"
      ]
     },
     "execution_count": 11,
     "metadata": {},
     "output_type": "execute_result"
    }
   ],
   "source": [
    "# Primero creamos una column con un conteo de los nulos por fila\n",
    "df_steamgames_raw['cantidad_nan'] = df_steamgames_raw.isna().sum(axis=1)\n",
    "\n",
    "# Visualizamos las ocurrencias de nan y las suma de filas respectivas\n",
    "df_steamgames_raw.groupby('cantidad_nan').size()"
   ]
  },
  {
   "cell_type": "markdown",
   "metadata": {},
   "source": [
    "* Visualizando 'cantidad_nan' y el CSV del dataset nos fijamos que las filas con 3, o más, nulos no son útil para el enfoque de este proyecto."
   ]
  },
  {
   "cell_type": "code",
   "execution_count": 12,
   "metadata": {},
   "outputs": [
    {
     "data": {
      "text/plain": [
       "cantidad_nan\n",
       "0    22530\n",
       "1     5742\n",
       "2      240\n",
       "dtype: int64"
      ]
     },
     "execution_count": 12,
     "metadata": {},
     "output_type": "execute_result"
    }
   ],
   "source": [
    "# Mantenemos filas con 2 nulos, o menos. Eliminamos el resto.\n",
    "max_nulos_aceptables = 2\n",
    "df_steamgames_raw.dropna(thresh=df_steamgames_raw.shape[1]-max_nulos_aceptables, axis=0, inplace=True)\n",
    "\n",
    "# Visualizamos las ocurrencias de nan de nuevo para confirmar el dropna()\n",
    "df_steamgames_raw.groupby('cantidad_nan').size()"
   ]
  },
  {
   "cell_type": "code",
   "execution_count": 13,
   "metadata": {},
   "outputs": [],
   "source": [
    "# Finalmente, eliminamos 'cantidad_nan'.\n",
    "df_steamgames_raw.drop('cantidad_nan', axis=1, inplace=True)"
   ]
  },
  {
   "cell_type": "markdown",
   "metadata": {},
   "source": [
    "#### Transformación de columna 'release_date' a 'release_year' (steam_games)\n",
    "* En cuanto a fechas, requerimos solo información de años. Podemos optimizar nuestro dataset extrayendo los años de la columna 'release_date'."
   ]
  },
  {
   "cell_type": "code",
   "execution_count": 14,
   "metadata": {},
   "outputs": [],
   "source": [
    "# Creamos una función que nos permita extraer los 4 dígitos del year/año\n",
    "def extraer_year(texto: str):\n",
    "    \"\"\"Encuentra un año de cuatro dígitos en el texto proporcionada.\n",
    "    \n",
    "    Parámetros:\n",
    "    texto (str): El texto en la que se buscará el año.\n",
    "    Devuelve:\n",
    "    str o None: Un string que contiene el año si se encuentra, o 'None' si no se encuentra.\n",
    "    \"\"\"\n",
    "    # Buscamos números de 4 dígitos en el string y lo retornamos\n",
    "    year: str = re.search(r'\\d{4}', texto)\n",
    "    return year.group() if year else None"
   ]
  },
  {
   "cell_type": "code",
   "execution_count": 15,
   "metadata": {},
   "outputs": [],
   "source": [
    "# Primero convertimos la columna 'release_date' a tipo string para poder aplicar la función extraer_year()\n",
    "df_steamgames_raw['release_date'] = df_steamgames_raw['release_date'].astype(str)\n",
    "\n",
    "# Aplicamos extraer_year() a 'release_date' y almacenamos el retorno en la columna 'release_year'\n",
    "df_steamgames_raw['release_year'] = df_steamgames_raw['release_date'].apply(extraer_year)\n",
    "\n",
    "# Convertimos columna 'release_year' a tipo datetime\n",
    "df_steamgames_raw['release_year'] = pd.to_datetime(df_steamgames_raw['release_year'], format='%Y', errors='coerce')\n",
    "\n",
    "# Eliminamos 'release_date' que queda redundante\n",
    "df_steamgames_raw.drop('release_date', axis=1, inplace=True)"
   ]
  },
  {
   "cell_type": "code",
   "execution_count": 16,
   "metadata": {},
   "outputs": [],
   "source": [
    "# Si existen nulos resultantes de la creación de 'release_year', los eliminamos.\n",
    "df_steamgames_raw.dropna(subset='release_year', inplace=True)"
   ]
  },
  {
   "cell_type": "markdown",
   "metadata": {},
   "source": [
    "#### Extracción de listas anidadas (steam_games)"
   ]
  },
  {
   "cell_type": "code",
   "execution_count": 17,
   "metadata": {},
   "outputs": [],
   "source": [
    "# Creamos una función que desanida columnas especificas\n",
    "# y devuelve un nuevo dataframe de valores tipo bool\n",
    "def desanidar_lista_a_df(df: pd.DataFrame, col_anidada: str, col_indice: str) -> pd.DataFrame:\n",
    "    \"\"\"Retorna un nuevo dataframe, con 'col_indice' como indice y todo valor único en \n",
    "    'col_anidada' como columnas, de datos anidados en 'df'.\n",
    "    \n",
    "    Parámetros:\n",
    "    df (pd.DataFrame): DataFrame que contiene una columna con datos anidados.\n",
    "    col_anidada (str): El nombre de la columna con datos anidados.\n",
    "    col_indice (str): El nombre de la columna que se convertirá en el indices del nuevo dataframe.\n",
    "    Devuelve:\n",
    "    pd.DataFrame: Un dataframe con los datos desanidados.\n",
    "    \"\"\"\n",
    "\n",
    "    # Extraemos los valores únicos de 'col_anidada'\n",
    "    valores_unicos = set(val for lista in df[col_anidada] for val in lista)\n",
    "\n",
    "    # Creamos un dataframe, con 'col_indice' como indice\n",
    "    df_desanidado_nuevo = pd.DataFrame(index=df[col_indice])\n",
    "    \n",
    "    # Agregamos columnas por cada valor único en 'col_anidada'\n",
    "    for val in valores_unicos:\n",
    "        df_desanidado_nuevo[val] = False\n",
    "\n",
    "    # Iteramos por las filas y asignamos el valor True donde aplica\n",
    "    for _, fila in df.iterrows():\n",
    "        for val in fila[col_anidada]:\n",
    "            df_desanidado_nuevo.at[fila[col_indice], val] = True\n",
    "    \n",
    "    return df_desanidado_nuevo"
   ]
  },
  {
   "cell_type": "code",
   "execution_count": null,
   "metadata": {},
   "outputs": [],
   "source": [
    "# Desanidamos las columnas 'genres', 'tags' y 'specs', y los guardamos como dataframes nuevos. \n",
    "df_steamgames_genres = desanidar_lista_a_df(df_steamgames_raw, 'genres', 'id')\n",
    "df_steamgames_tags = desanidar_lista_a_df(df_steamgames_raw, 'tags', 'id')\n",
    "df_steamgames_specs = desanidar_lista_a_df(df_steamgames_raw, 'specs', 'id')"
   ]
  },
  {
   "cell_type": "markdown",
   "metadata": {},
   "source": [
    "* Con los datos extraídos de 'genres', 'tags' y 'specs', tenemos que asegurar que no exite información redundante."
   ]
  },
  {
   "cell_type": "code",
   "execution_count": 28,
   "metadata": {},
   "outputs": [
    {
     "data": {
      "text/plain": [
       "Index(['Strategy', 'Casual', 'RPG', 'Utilities', 'Free to Play', 'Education',\n",
       "       'Indie', 'Sports', 'Software Training', 'Photo Editing',\n",
       "       'Web Publishing', 'Adventure', 'Action', 'Simulation', 'Early Access',\n",
       "       'Racing', 'Audio Production', 'Video Production',\n",
       "       'Massively Multiplayer'],\n",
       "      dtype='object')"
      ]
     },
     "execution_count": 28,
     "metadata": {},
     "output_type": "execute_result"
    }
   ],
   "source": [
    "# Columnas comunes entre 'genres' y 'tags'\n",
    "cols_comun_genres_tags = df_steamgames_genres.columns.intersection(df_steamgames_tags.columns)\n",
    "cols_comun_genres_tags"
   ]
  },
  {
   "cell_type": "code",
   "execution_count": 29,
   "metadata": {},
   "outputs": [
    {
     "data": {
      "text/plain": [
       "Index(['Co-op'], dtype='object')"
      ]
     },
     "execution_count": 29,
     "metadata": {},
     "output_type": "execute_result"
    }
   ],
   "source": [
    "# Columnas comunes entre 'tags' y 'specs'\n",
    "cols_comun_tags_specs = df_steamgames_tags.columns.intersection(df_steamgames_specs.columns)\n",
    "cols_comun_tags_specs"
   ]
  },
  {
   "cell_type": "code",
   "execution_count": 30,
   "metadata": {},
   "outputs": [],
   "source": [
    "# Eliminamos las columnas comunes redundantes\n",
    "df_steamgames_tags.drop(cols_comun_genres_tags, axis=1, inplace=True)\n",
    "df_steamgames_specs.drop(cols_comun_tags_specs, axis=1, inplace=True)"
   ]
  },
  {
   "cell_type": "code",
   "execution_count": 18,
   "metadata": {},
   "outputs": [],
   "source": [
    "# Finalmente descartamos las columnas que desanidamos y guardamos el dataframe procesado\n",
    "df_steamgames_clean = df_steamgames_raw.drop(['genres', 'tags', 'specs'], axis=1)"
   ]
  },
  {
   "cell_type": "markdown",
   "metadata": {},
   "source": [
    "### Dataset: user_reviews"
   ]
  },
  {
   "cell_type": "code",
   "execution_count": 21,
   "metadata": {},
   "outputs": [
    {
     "name": "stdout",
     "output_type": "stream",
     "text": [
      "<class 'pandas.core.frame.DataFrame'>\n",
      "RangeIndex: 25798 entries, 0 to 25797\n",
      "Data columns (total 3 columns):\n",
      " #   Column    Non-Null Count  Dtype \n",
      "---  ------    --------------  ----- \n",
      " 0   user_id   25798 non-null  object\n",
      " 1   user_url  25798 non-null  object\n",
      " 2   reviews   25798 non-null  object\n",
      "dtypes: object(3)\n",
      "memory usage: 604.8+ KB\n"
     ]
    },
    {
     "data": {
      "text/html": [
       "<div>\n",
       "<style scoped>\n",
       "    .dataframe tbody tr th:only-of-type {\n",
       "        vertical-align: middle;\n",
       "    }\n",
       "\n",
       "    .dataframe tbody tr th {\n",
       "        vertical-align: top;\n",
       "    }\n",
       "\n",
       "    .dataframe thead th {\n",
       "        text-align: right;\n",
       "    }\n",
       "</style>\n",
       "<table border=\"1\" class=\"dataframe\">\n",
       "  <thead>\n",
       "    <tr style=\"text-align: right;\">\n",
       "      <th></th>\n",
       "      <th>user_id</th>\n",
       "      <th>user_url</th>\n",
       "      <th>reviews</th>\n",
       "    </tr>\n",
       "  </thead>\n",
       "  <tbody>\n",
       "    <tr>\n",
       "      <th>0</th>\n",
       "      <td>js41637</td>\n",
       "      <td>http://steamcommunity.com/id/js41637</td>\n",
       "      <td>[{'funny': '', 'posted': 'Posted June 24, 2014...</td>\n",
       "    </tr>\n",
       "    <tr>\n",
       "      <th>1</th>\n",
       "      <td>evcentric</td>\n",
       "      <td>http://steamcommunity.com/id/evcentric</td>\n",
       "      <td>[{'funny': '', 'posted': 'Posted February 3.',...</td>\n",
       "    </tr>\n",
       "    <tr>\n",
       "      <th>2</th>\n",
       "      <td>doctr</td>\n",
       "      <td>http://steamcommunity.com/id/doctr</td>\n",
       "      <td>[{'funny': '', 'posted': 'Posted October 14, 2...</td>\n",
       "    </tr>\n",
       "    <tr>\n",
       "      <th>3</th>\n",
       "      <td>maplemage</td>\n",
       "      <td>http://steamcommunity.com/id/maplemage</td>\n",
       "      <td>[{'funny': '3 people found this review funny',...</td>\n",
       "    </tr>\n",
       "    <tr>\n",
       "      <th>4</th>\n",
       "      <td>Wackky</td>\n",
       "      <td>http://steamcommunity.com/id/Wackky</td>\n",
       "      <td>[{'funny': '', 'posted': 'Posted May 5, 2014.'...</td>\n",
       "    </tr>\n",
       "  </tbody>\n",
       "</table>\n",
       "</div>"
      ],
      "text/plain": [
       "     user_id                                user_url  \\\n",
       "0    js41637    http://steamcommunity.com/id/js41637   \n",
       "1  evcentric  http://steamcommunity.com/id/evcentric   \n",
       "2      doctr      http://steamcommunity.com/id/doctr   \n",
       "3  maplemage  http://steamcommunity.com/id/maplemage   \n",
       "4     Wackky     http://steamcommunity.com/id/Wackky   \n",
       "\n",
       "                                             reviews  \n",
       "0  [{'funny': '', 'posted': 'Posted June 24, 2014...  \n",
       "1  [{'funny': '', 'posted': 'Posted February 3.',...  \n",
       "2  [{'funny': '', 'posted': 'Posted October 14, 2...  \n",
       "3  [{'funny': '3 people found this review funny',...  \n",
       "4  [{'funny': '', 'posted': 'Posted May 5, 2014.'...  "
      ]
     },
     "execution_count": 21,
     "metadata": {},
     "output_type": "execute_result"
    }
   ],
   "source": [
    "# Inspeccionamos el dataframe de 'user_reviews' y su contenido\n",
    "df_userreviews_raw.info()\n",
    "df_userreviews_raw.head()"
   ]
  },
  {
   "cell_type": "markdown",
   "metadata": {},
   "source": [
    "* Observamos que la columna 'reviews' tiene datos anidados. Lo tenemos que extraer, pero primero revisamos si existen datos nulos."
   ]
  },
  {
   "cell_type": "code",
   "execution_count": 22,
   "metadata": {},
   "outputs": [
    {
     "data": {
      "text/plain": [
       "user_id     0\n",
       "user_url    0\n",
       "reviews     0\n",
       "dtype: int64"
      ]
     },
     "execution_count": 22,
     "metadata": {},
     "output_type": "execute_result"
    }
   ],
   "source": [
    "# Revisamos la cantidad de nulos por columna\n",
    "df_userreviews_raw.isna().sum()"
   ]
  },
  {
   "cell_type": "markdown",
   "metadata": {},
   "source": [
    "* No existen nulos. Procedemos a desanidar 'reviews'."
   ]
  },
  {
   "cell_type": "markdown",
   "metadata": {},
   "source": [
    "#### Extracción de datos anidadas en 'reviews' (user_reviews)"
   ]
  },
  {
   "cell_type": "code",
   "execution_count": 23,
   "metadata": {},
   "outputs": [
    {
     "data": {
      "text/html": [
       "<div>\n",
       "<style scoped>\n",
       "    .dataframe tbody tr th:only-of-type {\n",
       "        vertical-align: middle;\n",
       "    }\n",
       "\n",
       "    .dataframe tbody tr th {\n",
       "        vertical-align: top;\n",
       "    }\n",
       "\n",
       "    .dataframe thead th {\n",
       "        text-align: right;\n",
       "    }\n",
       "</style>\n",
       "<table border=\"1\" class=\"dataframe\">\n",
       "  <thead>\n",
       "    <tr style=\"text-align: right;\">\n",
       "      <th></th>\n",
       "      <th>funny</th>\n",
       "      <th>posted</th>\n",
       "      <th>last_edited</th>\n",
       "      <th>item_id</th>\n",
       "      <th>helpful</th>\n",
       "      <th>recommend</th>\n",
       "      <th>review</th>\n",
       "      <th>0</th>\n",
       "      <th>user_id</th>\n",
       "    </tr>\n",
       "  </thead>\n",
       "  <tbody>\n",
       "    <tr>\n",
       "      <th>0</th>\n",
       "      <td></td>\n",
       "      <td>Posted June 24, 2014.</td>\n",
       "      <td></td>\n",
       "      <td>251610</td>\n",
       "      <td>15 of 20 people (75%) found this review helpful</td>\n",
       "      <td>True</td>\n",
       "      <td>I know what you think when you see this title ...</td>\n",
       "      <td>NaN</td>\n",
       "      <td>js41637</td>\n",
       "    </tr>\n",
       "    <tr>\n",
       "      <th>0</th>\n",
       "      <td></td>\n",
       "      <td>Posted September 8, 2013.</td>\n",
       "      <td></td>\n",
       "      <td>227300</td>\n",
       "      <td>0 of 1 people (0%) found this review helpful</td>\n",
       "      <td>True</td>\n",
       "      <td>For a simple (it's actually not all that simpl...</td>\n",
       "      <td>NaN</td>\n",
       "      <td>js41637</td>\n",
       "    </tr>\n",
       "    <tr>\n",
       "      <th>0</th>\n",
       "      <td></td>\n",
       "      <td>Posted November 29, 2013.</td>\n",
       "      <td></td>\n",
       "      <td>239030</td>\n",
       "      <td>1 of 4 people (25%) found this review helpful</td>\n",
       "      <td>True</td>\n",
       "      <td>Very fun little game to play when your bored o...</td>\n",
       "      <td>NaN</td>\n",
       "      <td>js41637</td>\n",
       "    </tr>\n",
       "    <tr>\n",
       "      <th>1</th>\n",
       "      <td></td>\n",
       "      <td>Posted February 3.</td>\n",
       "      <td></td>\n",
       "      <td>248820</td>\n",
       "      <td>No ratings yet</td>\n",
       "      <td>True</td>\n",
       "      <td>A suitably punishing roguelike platformer.  Wi...</td>\n",
       "      <td>NaN</td>\n",
       "      <td>evcentric</td>\n",
       "    </tr>\n",
       "    <tr>\n",
       "      <th>1</th>\n",
       "      <td></td>\n",
       "      <td>Posted December 4, 2015.</td>\n",
       "      <td>Last edited December 5, 2015.</td>\n",
       "      <td>370360</td>\n",
       "      <td>No ratings yet</td>\n",
       "      <td>True</td>\n",
       "      <td>\"Run for fun? What the hell kind of fun is that?\"</td>\n",
       "      <td>NaN</td>\n",
       "      <td>evcentric</td>\n",
       "    </tr>\n",
       "  </tbody>\n",
       "</table>\n",
       "</div>"
      ],
      "text/plain": [
       "  funny                     posted                    last_edited item_id  \\\n",
       "0            Posted June 24, 2014.                                 251610   \n",
       "0        Posted September 8, 2013.                                 227300   \n",
       "0        Posted November 29, 2013.                                 239030   \n",
       "1               Posted February 3.                                 248820   \n",
       "1         Posted December 4, 2015.  Last edited December 5, 2015.  370360   \n",
       "\n",
       "                                           helpful recommend  \\\n",
       "0  15 of 20 people (75%) found this review helpful      True   \n",
       "0     0 of 1 people (0%) found this review helpful      True   \n",
       "0    1 of 4 people (25%) found this review helpful      True   \n",
       "1                                   No ratings yet      True   \n",
       "1                                   No ratings yet      True   \n",
       "\n",
       "                                              review   0    user_id  \n",
       "0  I know what you think when you see this title ... NaN    js41637  \n",
       "0  For a simple (it's actually not all that simpl... NaN    js41637  \n",
       "0  Very fun little game to play when your bored o... NaN    js41637  \n",
       "1  A suitably punishing roguelike platformer.  Wi... NaN  evcentric  \n",
       "1  \"Run for fun? What the hell kind of fun is that?\" NaN  evcentric  "
      ]
     },
     "execution_count": 23,
     "metadata": {},
     "output_type": "execute_result"
    }
   ],
   "source": [
    "# Desanidamos la columna 'reviews'\n",
    "df_userreviews_desanidado = df_userreviews_raw.explode('reviews', ignore_index=False)\n",
    "df_userreviews_desanidado = df_userreviews_desanidado['reviews'].apply(pd.Series).join(df_userreviews_raw['user_id'])\n",
    "df_userreviews_desanidado.head()"
   ]
  },
  {
   "cell_type": "code",
   "execution_count": 24,
   "metadata": {},
   "outputs": [],
   "source": [
    "# Eliminamos una columna nula que resultó del desanidado\n",
    "df_userreviews_desanidado.drop(0, axis=1, inplace=True)"
   ]
  },
  {
   "cell_type": "markdown",
   "metadata": {},
   "source": [
    "#### Transformación de columna 'posted' y 'last_edited' a tipo datetime (user_reviews)"
   ]
  },
  {
   "cell_type": "code",
   "execution_count": 25,
   "metadata": {},
   "outputs": [
    {
     "data": {
      "text/html": [
       "<div>\n",
       "<style scoped>\n",
       "    .dataframe tbody tr th:only-of-type {\n",
       "        vertical-align: middle;\n",
       "    }\n",
       "\n",
       "    .dataframe tbody tr th {\n",
       "        vertical-align: top;\n",
       "    }\n",
       "\n",
       "    .dataframe thead th {\n",
       "        text-align: right;\n",
       "    }\n",
       "</style>\n",
       "<table border=\"1\" class=\"dataframe\">\n",
       "  <thead>\n",
       "    <tr style=\"text-align: right;\">\n",
       "      <th></th>\n",
       "      <th>funny</th>\n",
       "      <th>posted</th>\n",
       "      <th>last_edited</th>\n",
       "      <th>item_id</th>\n",
       "      <th>helpful</th>\n",
       "      <th>recommend</th>\n",
       "      <th>review</th>\n",
       "      <th>user_id</th>\n",
       "    </tr>\n",
       "  </thead>\n",
       "  <tbody>\n",
       "    <tr>\n",
       "      <th>0</th>\n",
       "      <td></td>\n",
       "      <td>2014-06-24</td>\n",
       "      <td>NaT</td>\n",
       "      <td>251610</td>\n",
       "      <td>15 of 20 people (75%) found this review helpful</td>\n",
       "      <td>True</td>\n",
       "      <td>I know what you think when you see this title ...</td>\n",
       "      <td>js41637</td>\n",
       "    </tr>\n",
       "    <tr>\n",
       "      <th>0</th>\n",
       "      <td></td>\n",
       "      <td>2013-09-08</td>\n",
       "      <td>NaT</td>\n",
       "      <td>227300</td>\n",
       "      <td>0 of 1 people (0%) found this review helpful</td>\n",
       "      <td>True</td>\n",
       "      <td>For a simple (it's actually not all that simpl...</td>\n",
       "      <td>js41637</td>\n",
       "    </tr>\n",
       "    <tr>\n",
       "      <th>0</th>\n",
       "      <td></td>\n",
       "      <td>2013-11-29</td>\n",
       "      <td>NaT</td>\n",
       "      <td>239030</td>\n",
       "      <td>1 of 4 people (25%) found this review helpful</td>\n",
       "      <td>True</td>\n",
       "      <td>Very fun little game to play when your bored o...</td>\n",
       "      <td>js41637</td>\n",
       "    </tr>\n",
       "    <tr>\n",
       "      <th>1</th>\n",
       "      <td></td>\n",
       "      <td>NaT</td>\n",
       "      <td>NaT</td>\n",
       "      <td>248820</td>\n",
       "      <td>No ratings yet</td>\n",
       "      <td>True</td>\n",
       "      <td>A suitably punishing roguelike platformer.  Wi...</td>\n",
       "      <td>evcentric</td>\n",
       "    </tr>\n",
       "    <tr>\n",
       "      <th>1</th>\n",
       "      <td></td>\n",
       "      <td>2015-12-04</td>\n",
       "      <td>2015-12-05</td>\n",
       "      <td>370360</td>\n",
       "      <td>No ratings yet</td>\n",
       "      <td>True</td>\n",
       "      <td>\"Run for fun? What the hell kind of fun is that?\"</td>\n",
       "      <td>evcentric</td>\n",
       "    </tr>\n",
       "  </tbody>\n",
       "</table>\n",
       "</div>"
      ],
      "text/plain": [
       "  funny     posted last_edited item_id  \\\n",
       "0       2014-06-24         NaT  251610   \n",
       "0       2013-09-08         NaT  227300   \n",
       "0       2013-11-29         NaT  239030   \n",
       "1              NaT         NaT  248820   \n",
       "1       2015-12-04  2015-12-05  370360   \n",
       "\n",
       "                                           helpful recommend  \\\n",
       "0  15 of 20 people (75%) found this review helpful      True   \n",
       "0     0 of 1 people (0%) found this review helpful      True   \n",
       "0    1 of 4 people (25%) found this review helpful      True   \n",
       "1                                   No ratings yet      True   \n",
       "1                                   No ratings yet      True   \n",
       "\n",
       "                                              review    user_id  \n",
       "0  I know what you think when you see this title ...    js41637  \n",
       "0  For a simple (it's actually not all that simpl...    js41637  \n",
       "0  Very fun little game to play when your bored o...    js41637  \n",
       "1  A suitably punishing roguelike platformer.  Wi...  evcentric  \n",
       "1  \"Run for fun? What the hell kind of fun is that?\"  evcentric  "
      ]
     },
     "execution_count": 25,
     "metadata": {},
     "output_type": "execute_result"
    }
   ],
   "source": [
    "# Convertimos 'posted' y 'last_edited' a datos tipo datetime\n",
    "df_userreviews_desanidado['posted'] = pd.to_datetime(df_userreviews_desanidado['posted'], format='Posted %B %d, %Y.', errors='coerce')\n",
    "df_userreviews_desanidado['last_edited'] = pd.to_datetime(df_userreviews_desanidado['last_edited'], format='Last edited %B %d, %Y.', errors='coerce')\n",
    "df_userreviews_desanidado.head()"
   ]
  },
  {
   "cell_type": "markdown",
   "metadata": {},
   "source": [
    "#### Revisión de nulos (user_reviews)"
   ]
  },
  {
   "cell_type": "code",
   "execution_count": 26,
   "metadata": {},
   "outputs": [
    {
     "data": {
      "text/plain": [
       "funny             28\n",
       "posted         10147\n",
       "last_edited    55053\n",
       "item_id           28\n",
       "helpful           28\n",
       "recommend         28\n",
       "review            28\n",
       "user_id            0\n",
       "dtype: int64"
      ]
     },
     "execution_count": 26,
     "metadata": {},
     "output_type": "execute_result"
    }
   ],
   "source": [
    "# Volvemos a ver la cantidad de nulos por columna\n",
    "# después del desanidado\n",
    "df_userreviews_desanidado.isna().sum()"
   ]
  },
  {
   "cell_type": "markdown",
   "metadata": {},
   "source": [
    "* Observamos 28 filas nulas nuevas. Las eliminamos, utilizando la columna 'review' como referencia"
   ]
  },
  {
   "cell_type": "code",
   "execution_count": 28,
   "metadata": {},
   "outputs": [],
   "source": [
    "# Eliminamos los nulos nuevos y guardamos el dataframe procesado\n",
    "df_userreviews_clean = df_userreviews_desanidado.dropna(subset='review')"
   ]
  },
  {
   "cell_type": "markdown",
   "metadata": {},
   "source": [
    "### Dataset: users_items"
   ]
  },
  {
   "cell_type": "code",
   "execution_count": 31,
   "metadata": {},
   "outputs": [
    {
     "name": "stdout",
     "output_type": "stream",
     "text": [
      "<class 'pandas.core.frame.DataFrame'>\n",
      "RangeIndex: 88309 entries, 0 to 88308\n",
      "Data columns (total 5 columns):\n",
      " #   Column       Non-Null Count  Dtype \n",
      "---  ------       --------------  ----- \n",
      " 0   user_id      88309 non-null  object\n",
      " 1   items_count  88309 non-null  int64 \n",
      " 2   steam_id     88309 non-null  object\n",
      " 3   user_url     88309 non-null  object\n",
      " 4   items        88309 non-null  object\n",
      "dtypes: int64(1), object(4)\n",
      "memory usage: 3.4+ MB\n"
     ]
    },
    {
     "data": {
      "text/html": [
       "<div>\n",
       "<style scoped>\n",
       "    .dataframe tbody tr th:only-of-type {\n",
       "        vertical-align: middle;\n",
       "    }\n",
       "\n",
       "    .dataframe tbody tr th {\n",
       "        vertical-align: top;\n",
       "    }\n",
       "\n",
       "    .dataframe thead th {\n",
       "        text-align: right;\n",
       "    }\n",
       "</style>\n",
       "<table border=\"1\" class=\"dataframe\">\n",
       "  <thead>\n",
       "    <tr style=\"text-align: right;\">\n",
       "      <th></th>\n",
       "      <th>user_id</th>\n",
       "      <th>items_count</th>\n",
       "      <th>steam_id</th>\n",
       "      <th>user_url</th>\n",
       "      <th>items</th>\n",
       "    </tr>\n",
       "  </thead>\n",
       "  <tbody>\n",
       "    <tr>\n",
       "      <th>0</th>\n",
       "      <td>js41637</td>\n",
       "      <td>888</td>\n",
       "      <td>76561198035864385</td>\n",
       "      <td>http://steamcommunity.com/id/js41637</td>\n",
       "      <td>[{'item_id': '10', 'item_name': 'Counter-Strik...</td>\n",
       "    </tr>\n",
       "    <tr>\n",
       "      <th>1</th>\n",
       "      <td>evcentric</td>\n",
       "      <td>137</td>\n",
       "      <td>76561198007712555</td>\n",
       "      <td>http://steamcommunity.com/id/evcentric</td>\n",
       "      <td>[{'item_id': '1200', 'item_name': 'Red Orchest...</td>\n",
       "    </tr>\n",
       "    <tr>\n",
       "      <th>2</th>\n",
       "      <td>Riot-Punch</td>\n",
       "      <td>328</td>\n",
       "      <td>76561197963445855</td>\n",
       "      <td>http://steamcommunity.com/id/Riot-Punch</td>\n",
       "      <td>[{'item_id': '10', 'item_name': 'Counter-Strik...</td>\n",
       "    </tr>\n",
       "    <tr>\n",
       "      <th>3</th>\n",
       "      <td>doctr</td>\n",
       "      <td>541</td>\n",
       "      <td>76561198002099482</td>\n",
       "      <td>http://steamcommunity.com/id/doctr</td>\n",
       "      <td>[{'item_id': '300', 'item_name': 'Day of Defea...</td>\n",
       "    </tr>\n",
       "    <tr>\n",
       "      <th>4</th>\n",
       "      <td>MinxIsBetterThanPotatoes</td>\n",
       "      <td>371</td>\n",
       "      <td>76561198004744620</td>\n",
       "      <td>http://steamcommunity.com/id/MinxIsBetterThanP...</td>\n",
       "      <td>[{'item_id': '50', 'item_name': 'Half-Life: Op...</td>\n",
       "    </tr>\n",
       "  </tbody>\n",
       "</table>\n",
       "</div>"
      ],
      "text/plain": [
       "                    user_id  items_count           steam_id  \\\n",
       "0                   js41637          888  76561198035864385   \n",
       "1                 evcentric          137  76561198007712555   \n",
       "2                Riot-Punch          328  76561197963445855   \n",
       "3                     doctr          541  76561198002099482   \n",
       "4  MinxIsBetterThanPotatoes          371  76561198004744620   \n",
       "\n",
       "                                            user_url  \\\n",
       "0               http://steamcommunity.com/id/js41637   \n",
       "1             http://steamcommunity.com/id/evcentric   \n",
       "2            http://steamcommunity.com/id/Riot-Punch   \n",
       "3                 http://steamcommunity.com/id/doctr   \n",
       "4  http://steamcommunity.com/id/MinxIsBetterThanP...   \n",
       "\n",
       "                                               items  \n",
       "0  [{'item_id': '10', 'item_name': 'Counter-Strik...  \n",
       "1  [{'item_id': '1200', 'item_name': 'Red Orchest...  \n",
       "2  [{'item_id': '10', 'item_name': 'Counter-Strik...  \n",
       "3  [{'item_id': '300', 'item_name': 'Day of Defea...  \n",
       "4  [{'item_id': '50', 'item_name': 'Half-Life: Op...  "
      ]
     },
     "execution_count": 31,
     "metadata": {},
     "output_type": "execute_result"
    }
   ],
   "source": [
    "# Inspeccionamos el dataframe de 'users_items' y su contenido\n",
    "df_usersitems_raw.info()\n",
    "df_usersitems_raw.head()"
   ]
  },
  {
   "cell_type": "markdown",
   "metadata": {},
   "source": [
    "* Observamos que la columna 'items' tiene datos anidados. Lo tenemos que extraer, pero primero revisamos si existen datos nulos."
   ]
  },
  {
   "cell_type": "code",
   "execution_count": 32,
   "metadata": {},
   "outputs": [
    {
     "data": {
      "text/plain": [
       "user_id        0\n",
       "items_count    0\n",
       "steam_id       0\n",
       "user_url       0\n",
       "items          0\n",
       "dtype: int64"
      ]
     },
     "execution_count": 32,
     "metadata": {},
     "output_type": "execute_result"
    }
   ],
   "source": [
    "# Revisamos la cantidad de nulos por columna\n",
    "df_usersitems_raw.isna().sum()"
   ]
  },
  {
   "cell_type": "markdown",
   "metadata": {},
   "source": [
    "* No existen nulos."
   ]
  },
  {
   "cell_type": "markdown",
   "metadata": {},
   "source": [
    "#### Extracción de datos anidadas en 'items' (users_items)"
   ]
  },
  {
   "cell_type": "code",
   "execution_count": null,
   "metadata": {},
   "outputs": [],
   "source": [
    "# Por cuestión de limite de memoria, tenemos que dividir el dataframe y procesarlo en porciones\n",
    "df_usersitems_split = np.array_split(df_usersitems_raw, 100)\n",
    "\n",
    "# Desanidamos en pasos, guardando los df procesados en una lista\n",
    "dfs_usersitems_explode = []\n",
    "for df in df_usersitems_split:\n",
    "    df_explode = df.explode('items')\n",
    "    df_explode = df_explode['items'].apply(pd.Series).join(df)\n",
    "    dfs_usersitems_explode.append(df_explode)\n",
    "\n",
    "# Consolidamos los dataframes procesados\n",
    "df_usersitems_desanidado = pd.concat(dfs_usersitems_explode, axis=0)"
   ]
  },
  {
   "cell_type": "code",
   "execution_count": 34,
   "metadata": {},
   "outputs": [
    {
     "data": {
      "text/html": [
       "<div>\n",
       "<style scoped>\n",
       "    .dataframe tbody tr th:only-of-type {\n",
       "        vertical-align: middle;\n",
       "    }\n",
       "\n",
       "    .dataframe tbody tr th {\n",
       "        vertical-align: top;\n",
       "    }\n",
       "\n",
       "    .dataframe thead th {\n",
       "        text-align: right;\n",
       "    }\n",
       "</style>\n",
       "<table border=\"1\" class=\"dataframe\">\n",
       "  <thead>\n",
       "    <tr style=\"text-align: right;\">\n",
       "      <th></th>\n",
       "      <th>item_id</th>\n",
       "      <th>item_name</th>\n",
       "      <th>playtime_forever</th>\n",
       "      <th>playtime_2weeks</th>\n",
       "      <th>user_id</th>\n",
       "      <th>items_count</th>\n",
       "      <th>steam_id</th>\n",
       "      <th>user_url</th>\n",
       "    </tr>\n",
       "  </thead>\n",
       "  <tbody>\n",
       "    <tr>\n",
       "      <th>0</th>\n",
       "      <td>10</td>\n",
       "      <td>Counter-Strike</td>\n",
       "      <td>0.0</td>\n",
       "      <td>0.0</td>\n",
       "      <td>js41637</td>\n",
       "      <td>888</td>\n",
       "      <td>76561198035864385</td>\n",
       "      <td>http://steamcommunity.com/id/js41637</td>\n",
       "    </tr>\n",
       "    <tr>\n",
       "      <th>0</th>\n",
       "      <td>80</td>\n",
       "      <td>Counter-Strike: Condition Zero</td>\n",
       "      <td>0.0</td>\n",
       "      <td>0.0</td>\n",
       "      <td>js41637</td>\n",
       "      <td>888</td>\n",
       "      <td>76561198035864385</td>\n",
       "      <td>http://steamcommunity.com/id/js41637</td>\n",
       "    </tr>\n",
       "    <tr>\n",
       "      <th>0</th>\n",
       "      <td>100</td>\n",
       "      <td>Counter-Strike: Condition Zero Deleted Scenes</td>\n",
       "      <td>0.0</td>\n",
       "      <td>0.0</td>\n",
       "      <td>js41637</td>\n",
       "      <td>888</td>\n",
       "      <td>76561198035864385</td>\n",
       "      <td>http://steamcommunity.com/id/js41637</td>\n",
       "    </tr>\n",
       "    <tr>\n",
       "      <th>0</th>\n",
       "      <td>300</td>\n",
       "      <td>Day of Defeat: Source</td>\n",
       "      <td>220.0</td>\n",
       "      <td>0.0</td>\n",
       "      <td>js41637</td>\n",
       "      <td>888</td>\n",
       "      <td>76561198035864385</td>\n",
       "      <td>http://steamcommunity.com/id/js41637</td>\n",
       "    </tr>\n",
       "    <tr>\n",
       "      <th>0</th>\n",
       "      <td>30</td>\n",
       "      <td>Day of Defeat</td>\n",
       "      <td>0.0</td>\n",
       "      <td>0.0</td>\n",
       "      <td>js41637</td>\n",
       "      <td>888</td>\n",
       "      <td>76561198035864385</td>\n",
       "      <td>http://steamcommunity.com/id/js41637</td>\n",
       "    </tr>\n",
       "  </tbody>\n",
       "</table>\n",
       "</div>"
      ],
      "text/plain": [
       "  item_id                                      item_name  playtime_forever  \\\n",
       "0      10                                 Counter-Strike               0.0   \n",
       "0      80                 Counter-Strike: Condition Zero               0.0   \n",
       "0     100  Counter-Strike: Condition Zero Deleted Scenes               0.0   \n",
       "0     300                          Day of Defeat: Source             220.0   \n",
       "0      30                                  Day of Defeat               0.0   \n",
       "\n",
       "   playtime_2weeks  user_id  items_count           steam_id  \\\n",
       "0              0.0  js41637          888  76561198035864385   \n",
       "0              0.0  js41637          888  76561198035864385   \n",
       "0              0.0  js41637          888  76561198035864385   \n",
       "0              0.0  js41637          888  76561198035864385   \n",
       "0              0.0  js41637          888  76561198035864385   \n",
       "\n",
       "                               user_url  \n",
       "0  http://steamcommunity.com/id/js41637  \n",
       "0  http://steamcommunity.com/id/js41637  \n",
       "0  http://steamcommunity.com/id/js41637  \n",
       "0  http://steamcommunity.com/id/js41637  \n",
       "0  http://steamcommunity.com/id/js41637  "
      ]
     },
     "execution_count": 34,
     "metadata": {},
     "output_type": "execute_result"
    }
   ],
   "source": [
    "# Eliminamos la columna que desanidamos en el paso anterior\n",
    "# y confirmamos la transformación.\n",
    "df_usersitems_desanidado.drop(['items', 0], axis=1, inplace=True)\n",
    "df_usersitems_desanidado.head()"
   ]
  },
  {
   "cell_type": "code",
   "execution_count": 35,
   "metadata": {},
   "outputs": [
    {
     "data": {
      "text/plain": [
       "item_id             16806\n",
       "item_name           16806\n",
       "playtime_forever    16806\n",
       "playtime_2weeks     16806\n",
       "user_id                 0\n",
       "items_count             0\n",
       "steam_id                0\n",
       "user_url                0\n",
       "dtype: int64"
      ]
     },
     "execution_count": 35,
     "metadata": {},
     "output_type": "execute_result"
    }
   ],
   "source": [
    "# Revisamos la cantidad de nulos por columna\n",
    "df_usersitems_desanidado.isna().sum()"
   ]
  },
  {
   "cell_type": "markdown",
   "metadata": {},
   "source": [
    "* Observamos 16806 filas nulas nuevas. Las eliminamos, utilizando la columna 'item_id' como referencia, y guardamos el dataframe procesado."
   ]
  },
  {
   "cell_type": "code",
   "execution_count": 38,
   "metadata": {},
   "outputs": [],
   "source": [
    "df_usersitems_clean = df_usersitems_desanidado.dropna(subset=['item_id'])"
   ]
  },
  {
   "cell_type": "markdown",
   "metadata": {},
   "source": [
    "## Almacenamiento de Datos Procesados"
   ]
  },
  {
   "cell_type": "code",
   "execution_count": 42,
   "metadata": {},
   "outputs": [],
   "source": [
    "# Almacenamos los dataframes en disco para uso en el proceso EDA, cargados en 'EDA.ipynb'\n",
    "\n",
    "nombre_dir = 'data_pickle'\n",
    "protocol_pkl = pickle.HIGHEST_PROTOCOL\n",
    "\n",
    "# Creamos el directorio de almacén, si no existe\n",
    "if not os.path.exists(nombre_dir):\n",
    "    os.makedirs(nombre_dir)\n",
    "\n",
    "# Datasets de steam_games a pickle\n",
    "df_steamgames_clean.to_pickle(f'./{nombre_dir}/df_steamgames_clean.pkl', protocol=protocol_pkl)\n",
    "df_steamgames_genres.to_pickle(f'./{nombre_dir}/df_steamgames_genres.pkl', protocol=protocol_pkl)\n",
    "df_steamgames_tags.to_pickle(f'./{nombre_dir}/df_steamgames_tags.pkl', protocol=protocol_pkl)\n",
    "df_steamgames_specs.to_pickle(f'./{nombre_dir}/df_steamgames_specs.pkl', protocol=protocol_pkl)\n",
    "\n",
    "# Dataset de user_reviews a pickle\n",
    "df_userreviews_clean.to_pickle(f'./{nombre_dir}/df_userreviews_clean.pkl', protocol=protocol_pkl)\n",
    "\n",
    "# Dataset de users_items a pickle\n",
    "df_usersitems_clean.to_pickle(f'./{nombre_dir}/df_usersitems_clean.pkl', protocol=protocol_pkl)"
   ]
  }
 ],
 "metadata": {
  "kernelspec": {
   "display_name": "pyenv-h2",
   "language": "python",
   "name": "python3"
  },
  "language_info": {
   "codemirror_mode": {
    "name": "ipython",
    "version": 3
   },
   "file_extension": ".py",
   "mimetype": "text/x-python",
   "name": "python",
   "nbconvert_exporter": "python",
   "pygments_lexer": "ipython3",
   "version": "3.10.12"
  }
 },
 "nbformat": 4,
 "nbformat_minor": 2
}
